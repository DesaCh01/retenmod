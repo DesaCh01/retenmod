{
 "cells": [
  {
   "cell_type": "markdown",
   "id": "7c51ff53",
   "metadata": {},
   "source": [
    "# retenmod\n",
    "\n",
    "[Andy Wheeler, PhD](mailto:apwheele@gmail.com)\n",
    "\n",
    "Example analysis to illustrate the functions in the retenmod python package. For background, this is a port of the R library [foretell](https://cran.r-project.org/web/packages/foretell/foretell.pdf), and for notes on the original models, see [*“How to Project Customer Retention” Revisited: The Role of Duration Dependence* (Fader et al., 2018)](https://www.sciencedirect.com/science/article/pii/S1094996818300057).\n",
    "\n",
    "For this example, I will use data from [*Hiring and Retention Issues in Police Agencies: Readings on the Determinants of Police\n",
    "Strength, Hiring and Retention of Officers, and the Federal COPS Program*](https://www.ojp.gov/sites/g/files/xyckuh241/files/media/document/193428.pdf) by Koper, Maguire, and Moore (2002). Specifically pg 60, the probability that staff increases via COPs grants will be maintained."
   ]
  },
  {
   "cell_type": "code",
   "execution_count": 1,
   "id": "5a7f6863",
   "metadata": {},
   "outputs": [
    {
     "data": {
      "text/plain": [
       "churnmod(proj=array([100.        ,  62.76830041,  50.79775999,  44.28626652,\n",
       "        40.01108751,  36.91344085,  34.52797161,  32.61315193,\n",
       "        31.0291935 ,  29.68868512,  28.53370869,  27.52411959,\n",
       "        26.63107016,  25.83320856,  25.11433622,  24.46190428]), negLL=140.44829882757662, params=array([0.39097915, 0.65914521]))"
      ]
     },
     "execution_count": 1,
     "metadata": {},
     "output_type": "execute_result"
    }
   ],
   "source": [
    "import retenmod\n",
    "from scipy.stats import beta\n",
    "import numpy as np\n",
    "import matplotlib.pyplot as plt\n",
    "\n",
    "# Data on retention for small and large agencies\n",
    "small = [100,63,50,44,40,37]\n",
    "large = [100,66,56,52,49,47]\n",
    "\n",
    "# For the follow up 10 & 15 years\n",
    "small_fu = [30,28]\n",
    "large_fu = [44,42]\n",
    "\n",
    "# Checking out the fit for the small agencies\n",
    "sml_bg = retenmod.bg(small,10)\n",
    "sml_bg #projected 28,24 -- so not as good a fit"
   ]
  },
  {
   "cell_type": "code",
   "execution_count": 2,
   "id": "62add5aa",
   "metadata": {},
   "outputs": [
    {
     "data": {
      "text/plain": [
       "churnmod(proj=array([100.        ,  63.00099582,  50.07006559,  43.79027205,\n",
       "        39.83619946,  37.02376584,  34.87702022,  33.16096959,\n",
       "        31.74374615,  30.54455821,  29.51062341,  28.6057223 ,\n",
       "        27.804017  ,  27.08648577,  26.43875501,  25.8497224 ]), negLL=140.38608549293411, params=array([0.19267311, 0.32807904, 1.69357911]))"
      ]
     },
     "execution_count": 2,
     "metadata": {},
     "output_type": "execute_result"
    }
   ],
   "source": [
    "# Lets try the BdW model\n",
    "\n",
    "sml_bdw = retenmod.bdw(small,10)\n",
    "sml_bdw #projected 29,26 -- so slightly better but still too low\n",
    "# c parameter is above 1, so suggests large variance "
   ]
  },
  {
   "cell_type": "code",
   "execution_count": 3,
   "id": "38669411",
   "metadata": {},
   "outputs": [
    {
     "data": {
      "image/png": "[encoded data removed]",
      "text/plain": [
       "<Figure size 432x288 with 1 Axes>"
      ]
     },
     "metadata": {
      "needs_background": "light"
     },
     "output_type": "display_data"
    }
   ],
   "source": [
    "# Lets draw a beta distribution for the given a/b parameters for the small agency fit\n",
    "# Showing variance in the drop probabilities\n",
    "\n",
    "a, b, c = sml_bdw.params\n",
    "\n",
    "x = np.linspace(0.001, 0.999, 500)\n",
    "pdf = beta.pdf(x, a, b)\n",
    "\n",
    "fig, ax = plt.subplots()\n",
    "ax.plot(x, pdf)\n",
    "plt.show()\n",
    "\n",
    "# This suggests a large proportion drop right away, and many more stick around fairly permanently"
   ]
  },
  {
   "cell_type": "code",
   "execution_count": 4,
   "id": "d6658649",
   "metadata": {},
   "outputs": [
    {
     "name": "stdout",
     "output_type": "stream",
     "text": [
      "churnmod(proj=array([100.        ,  65.97978192,  56.41424151,  51.98514927,\n",
      "        49.08688815,  46.95589473,  45.28500044,  43.91922704,\n",
      "        42.76967228,  41.78078199,  40.91562382,  40.14846022,\n",
      "        39.46067537,  38.83839247,  38.2710059 ,  37.75023798]), negLL=126.44777842338809, params=array([0.05455557, 0.10580662, 3.6399319 ]))\n"
     ]
    },
    {
     "data": {
      "image/png": "[encoded data removed]",
      "text/plain": [
       "<Figure size 432x288 with 1 Axes>"
      ]
     },
     "metadata": {
      "needs_background": "light"
     },
     "output_type": "display_data"
    }
   ],
   "source": [
    "# Now the same exercise for the large agencies\n",
    "\n",
    "lrg_bdw = retenmod.bdw(large,10)\n",
    "print(lrg_bdw) #projected 40,37 -- so still too low\n",
    "\n",
    "pdf = beta.pdf(x, lrg_bdw.params[0], lrg_bdw.params[1])\n",
    "\n",
    "# Similar to before, large proportions in either tails\n",
    "fig, ax = plt.subplots()\n",
    "ax.plot(x, pdf)\n",
    "plt.show()"
   ]
  }
 ],
 "metadata": {
  "kernelspec": {
   "display_name": "Python 3",
   "language": "python",
   "name": "python3"
  },
  "language_info": {
   "codemirror_mode": {
    "name": "ipython",
    "version": 3
   },
   "file_extension": ".py",
   "mimetype": "text/x-python",
   "name": "python",
   "nbconvert_exporter": "python",
   "pygments_lexer": "ipython3",
   "version": "3.8.5"
  }
 },
 "nbformat": 4,
 "nbformat_minor": 5
}
