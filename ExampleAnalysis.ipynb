{
 "cells": [
  {
   "cell_type": "markdown",
   "id": "7c51ff53",
   "metadata": {},
   "source": [
    "# retenmod\n",
    "\n",
    "[Andy Wheeler, PhD](mailto:apwheele@gmail.com)\n",
    "\n",
    "Example analysis to illustrate the functions in the retenmod python package. For background, this is a port of the R library [foretell](https://cran.r-project.org/web/packages/foretell/foretell.pdf), and for notes on the original models, see [*“How to Project Customer Retention” Revisited: The Role of Duration Dependence* (Fader et al., 2018)](https://www.sciencedirect.com/science/article/pii/S1094996818300057).\n",
    "\n",
    "For this example, I will use data from [*Hiring and Retention Issues in Police Agencies: Readings on the Determinants of Police\n",
    "Strength, Hiring and Retention of Officers, and the Federal COPS Program*](https://www.ojp.gov/sites/g/files/xyckuh241/files/media/document/193428.pdf) by Koper, Maguire, and Moore (2002). Specifically pg 60, the probability that staff increases via COPs grants will be maintained."
   ]
  },
  {
   "cell_type": "code",
   "execution_count": 1,
   "id": "5a7f6863",
   "metadata": {
    "execution": {
     "iopub.execute_input": "2021-11-11T20:12:49.165758Z",
     "iopub.status.busy": "2021-11-11T20:12:49.164758Z",
     "iopub.status.idle": "2021-11-11T20:12:49.763315Z",
     "shell.execute_reply": "2021-11-11T20:12:49.762314Z"
    }
   },
   "outputs": [
    {
     "data": {
      "text/plain": [
       "churnmod(proj=array([100.        ,  62.76829767,  50.7977593 ,  44.28626722,\n",
       "        40.01108913,  36.91344314,  34.52797439,  32.61315509,\n",
       "        31.02919696,  29.68868882,  28.53371259,  27.52412366,\n",
       "        26.63107437,  25.83321289,  25.11434065,  24.4619088 ]), negLL=140.44829882757764, params=array([0.39097901, 0.65914491]))"
      ]
     },
     "execution_count": 1,
     "metadata": {},
     "output_type": "execute_result"
    }
   ],
   "source": [
    "import retenmod\n",
    "from scipy.stats import beta\n",
    "import numpy as np\n",
    "import matplotlib.pyplot as plt\n",
    "\n",
    "# Data on retention for small and large agencies\n",
    "small = [100,63,50,44,40,37]\n",
    "large = [100,66,56,52,49,47]\n",
    "\n",
    "# For the follow up 10 & 15 years\n",
    "small_fu = [30,28]\n",
    "large_fu = [44,42]\n",
    "\n",
    "# Checking out the fit for the small agencies\n",
    "sml_bg = retenmod.bg(small,10)\n",
    "sml_bg #projected 28,24 -- so not as good a fit"
   ]
  },
  {
   "cell_type": "code",
   "execution_count": 2,
   "id": "62add5aa",
   "metadata": {
    "execution": {
     "iopub.execute_input": "2021-11-11T20:12:49.783311Z",
     "iopub.status.busy": "2021-11-11T20:12:49.782311Z",
     "iopub.status.idle": "2021-11-11T20:12:49.794312Z",
     "shell.execute_reply": "2021-11-11T20:12:49.793315Z"
    }
   },
   "outputs": [
    {
     "data": {
      "text/plain": [
       "churnmod(proj=array([100.        ,  63.00080991,  50.07014743,  43.79043581,\n",
       "        39.83640345,  37.02399395,  34.87726437,  33.16122509,\n",
       "        31.74401005,  30.5448285 ,  29.51089867,  28.60600151,\n",
       "        27.80429936,  27.08677068,  26.43904199,  25.85001107]), negLL=140.3860854953761, params=array([0.19267906, 0.32808656, 1.69350316]))"
      ]
     },
     "execution_count": 1,
     "metadata": {},
     "output_type": "execute_result"
    }
   ],
   "source": [
    "# Lets try the BdW model\n",
    "\n",
    "sml_bdw = retenmod.bdw(small,10)\n",
    "sml_bdw #projected 29,26 -- so slightly better but still too low\n",
    "# c parameter is above 1, so suggests large variance "
   ]
  },
  {
   "cell_type": "code",
   "execution_count": 3,
   "id": "38669411",
   "metadata": {
    "execution": {
     "iopub.execute_input": "2021-11-11T20:12:49.818313Z",
     "iopub.status.busy": "2021-11-11T20:12:49.817311Z",
     "iopub.status.idle": "2021-11-11T20:12:49.919330Z",
     "shell.execute_reply": "2021-11-11T20:12:49.918332Z"
    }
   },
   "outputs": [
    {
     "data": {
      "image/png": "[encoded data removed]",
      "text/plain": [
       "<Figure size 432x288 with 1 Axes>"
      ]
     },
     "metadata": {
      "needs_background": "light"
     },
     "output_type": "display_data"
    }
   ],
   "source": [
    "# Lets draw a beta distribution for the given a/b parameters for the small agency fit\n",
    "# Showing variance in the drop probabilities\n",
    "\n",
    "a, b, c = sml_bdw.params\n",
    "\n",
    "x = np.linspace(0.001, 0.999, 500)\n",
    "pdf = beta.pdf(x, a, b)\n",
    "\n",
    "fig, ax = plt.subplots()\n",
    "ax.plot(x, pdf)\n",
    "plt.show()\n",
    "\n",
    "# This suggests a large proportion drop right away, and many more stick around fairly permanently"
   ]
  },
  {
   "cell_type": "code",
   "execution_count": 4,
   "id": "d6658649",
   "metadata": {
    "execution": {
     "iopub.execute_input": "2021-11-11T20:12:49.993317Z",
     "iopub.status.busy": "2021-11-11T20:12:49.947335Z",
     "iopub.status.idle": "2021-11-11T20:12:50.058264Z",
     "shell.execute_reply": "2021-11-11T20:12:50.057230Z"
    }
   },
   "outputs": [
    {
     "name": "stdout",
     "output_type": "stream",
     "text": [
      "churnmod(proj=array([100.        ,  65.97952723,  56.41317767,  51.98364604,\n",
      "        49.0854518 ,  46.95459552,  45.28383525,  43.91818041,\n",
      "        42.76872858,  41.77992777,  40.91484796,  40.14775355,\n",
      "        39.46003032,  38.83780273,  38.27046614,  37.74974369]), negLL=126.44777960898891, params=array([0.05480971, 0.10629831, 3.62278346]))\n"
     ]
    },
    {
     "data": {
      "image/png": "[encoded data removed]",
      "text/plain": [
       "<Figure size 432x288 with 1 Axes>"
      ]
     },
     "metadata": {
      "needs_background": "light"
     },
     "output_type": "display_data"
    }
   ],
   "source": [
    "# Now the same exercise for the large agencies\n",
    "\n",
    "lrg_bdw = retenmod.bdw(large,10)\n",
    "print(lrg_bdw) #projected 40,37 -- so still too low\n",
    "\n",
    "pdf = beta.pdf(x, lrg_bdw.params[0], lrg_bdw.params[1])\n",
    "\n",
    "# Similar to before, large proportions in either tails\n",
    "fig, ax = plt.subplots()\n",
    "ax.plot(x, pdf)\n",
    "plt.show()"
   ]
  }
 ],
 "metadata": {
  "kernelspec": {
   "display_name": "Python 3",
   "language": "python",
   "name": "python3"
  },
  "language_info": {
   "codemirror_mode": {
    "name": "ipython",
    "version": 3
   },
   "file_extension": ".py",
   "mimetype": "text/x-python",
   "name": "python",
   "nbconvert_exporter": "python",
   "pygments_lexer": "ipython3",
   "version": "3.6.13"
  }
 },
 "nbformat": 4,
 "nbformat_minor": 5
}
